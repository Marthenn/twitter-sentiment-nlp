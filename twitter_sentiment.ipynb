{
  "nbformat": 4,
  "nbformat_minor": 0,
  "metadata": {
    "colab": {
      "provenance": [],
      "gpuType": "T4"
    },
    "kernelspec": {
      "name": "python3",
      "display_name": "Python 3"
    },
    "language_info": {
      "name": "python"
    },
    "accelerator": "GPU"
  },
  "cells": [
    {
      "cell_type": "code",
      "source": [
        "! pip install -q kaggle"
      ],
      "metadata": {
        "id": "dMUL-l2zqxdN"
      },
      "execution_count": 1,
      "outputs": []
    },
    {
      "cell_type": "code",
      "source": [
        "from google.colab import files\n",
        "files.upload()"
      ],
      "metadata": {
        "colab": {
          "base_uri": "https://localhost:8080/",
          "height": 90
        },
        "id": "l8Bj-4aMqzmf",
        "outputId": "13c34c89-3aa3-4034-c82f-69920e21a8ef"
      },
      "execution_count": 2,
      "outputs": [
        {
          "output_type": "display_data",
          "data": {
            "text/plain": [
              "<IPython.core.display.HTML object>"
            ],
            "text/html": [
              "\n",
              "     <input type=\"file\" id=\"files-d101fa28-f04b-47d4-b456-e97aa729b656\" name=\"files[]\" multiple disabled\n",
              "        style=\"border:none\" />\n",
              "     <output id=\"result-d101fa28-f04b-47d4-b456-e97aa729b656\">\n",
              "      Upload widget is only available when the cell has been executed in the\n",
              "      current browser session. Please rerun this cell to enable.\n",
              "      </output>\n",
              "      <script>// Copyright 2017 Google LLC\n",
              "//\n",
              "// Licensed under the Apache License, Version 2.0 (the \"License\");\n",
              "// you may not use this file except in compliance with the License.\n",
              "// You may obtain a copy of the License at\n",
              "//\n",
              "//      http://www.apache.org/licenses/LICENSE-2.0\n",
              "//\n",
              "// Unless required by applicable law or agreed to in writing, software\n",
              "// distributed under the License is distributed on an \"AS IS\" BASIS,\n",
              "// WITHOUT WARRANTIES OR CONDITIONS OF ANY KIND, either express or implied.\n",
              "// See the License for the specific language governing permissions and\n",
              "// limitations under the License.\n",
              "\n",
              "/**\n",
              " * @fileoverview Helpers for google.colab Python module.\n",
              " */\n",
              "(function(scope) {\n",
              "function span(text, styleAttributes = {}) {\n",
              "  const element = document.createElement('span');\n",
              "  element.textContent = text;\n",
              "  for (const key of Object.keys(styleAttributes)) {\n",
              "    element.style[key] = styleAttributes[key];\n",
              "  }\n",
              "  return element;\n",
              "}\n",
              "\n",
              "// Max number of bytes which will be uploaded at a time.\n",
              "const MAX_PAYLOAD_SIZE = 100 * 1024;\n",
              "\n",
              "function _uploadFiles(inputId, outputId) {\n",
              "  const steps = uploadFilesStep(inputId, outputId);\n",
              "  const outputElement = document.getElementById(outputId);\n",
              "  // Cache steps on the outputElement to make it available for the next call\n",
              "  // to uploadFilesContinue from Python.\n",
              "  outputElement.steps = steps;\n",
              "\n",
              "  return _uploadFilesContinue(outputId);\n",
              "}\n",
              "\n",
              "// This is roughly an async generator (not supported in the browser yet),\n",
              "// where there are multiple asynchronous steps and the Python side is going\n",
              "// to poll for completion of each step.\n",
              "// This uses a Promise to block the python side on completion of each step,\n",
              "// then passes the result of the previous step as the input to the next step.\n",
              "function _uploadFilesContinue(outputId) {\n",
              "  const outputElement = document.getElementById(outputId);\n",
              "  const steps = outputElement.steps;\n",
              "\n",
              "  const next = steps.next(outputElement.lastPromiseValue);\n",
              "  return Promise.resolve(next.value.promise).then((value) => {\n",
              "    // Cache the last promise value to make it available to the next\n",
              "    // step of the generator.\n",
              "    outputElement.lastPromiseValue = value;\n",
              "    return next.value.response;\n",
              "  });\n",
              "}\n",
              "\n",
              "/**\n",
              " * Generator function which is called between each async step of the upload\n",
              " * process.\n",
              " * @param {string} inputId Element ID of the input file picker element.\n",
              " * @param {string} outputId Element ID of the output display.\n",
              " * @return {!Iterable<!Object>} Iterable of next steps.\n",
              " */\n",
              "function* uploadFilesStep(inputId, outputId) {\n",
              "  const inputElement = document.getElementById(inputId);\n",
              "  inputElement.disabled = false;\n",
              "\n",
              "  const outputElement = document.getElementById(outputId);\n",
              "  outputElement.innerHTML = '';\n",
              "\n",
              "  const pickedPromise = new Promise((resolve) => {\n",
              "    inputElement.addEventListener('change', (e) => {\n",
              "      resolve(e.target.files);\n",
              "    });\n",
              "  });\n",
              "\n",
              "  const cancel = document.createElement('button');\n",
              "  inputElement.parentElement.appendChild(cancel);\n",
              "  cancel.textContent = 'Cancel upload';\n",
              "  const cancelPromise = new Promise((resolve) => {\n",
              "    cancel.onclick = () => {\n",
              "      resolve(null);\n",
              "    };\n",
              "  });\n",
              "\n",
              "  // Wait for the user to pick the files.\n",
              "  const files = yield {\n",
              "    promise: Promise.race([pickedPromise, cancelPromise]),\n",
              "    response: {\n",
              "      action: 'starting',\n",
              "    }\n",
              "  };\n",
              "\n",
              "  cancel.remove();\n",
              "\n",
              "  // Disable the input element since further picks are not allowed.\n",
              "  inputElement.disabled = true;\n",
              "\n",
              "  if (!files) {\n",
              "    return {\n",
              "      response: {\n",
              "        action: 'complete',\n",
              "      }\n",
              "    };\n",
              "  }\n",
              "\n",
              "  for (const file of files) {\n",
              "    const li = document.createElement('li');\n",
              "    li.append(span(file.name, {fontWeight: 'bold'}));\n",
              "    li.append(span(\n",
              "        `(${file.type || 'n/a'}) - ${file.size} bytes, ` +\n",
              "        `last modified: ${\n",
              "            file.lastModifiedDate ? file.lastModifiedDate.toLocaleDateString() :\n",
              "                                    'n/a'} - `));\n",
              "    const percent = span('0% done');\n",
              "    li.appendChild(percent);\n",
              "\n",
              "    outputElement.appendChild(li);\n",
              "\n",
              "    const fileDataPromise = new Promise((resolve) => {\n",
              "      const reader = new FileReader();\n",
              "      reader.onload = (e) => {\n",
              "        resolve(e.target.result);\n",
              "      };\n",
              "      reader.readAsArrayBuffer(file);\n",
              "    });\n",
              "    // Wait for the data to be ready.\n",
              "    let fileData = yield {\n",
              "      promise: fileDataPromise,\n",
              "      response: {\n",
              "        action: 'continue',\n",
              "      }\n",
              "    };\n",
              "\n",
              "    // Use a chunked sending to avoid message size limits. See b/62115660.\n",
              "    let position = 0;\n",
              "    do {\n",
              "      const length = Math.min(fileData.byteLength - position, MAX_PAYLOAD_SIZE);\n",
              "      const chunk = new Uint8Array(fileData, position, length);\n",
              "      position += length;\n",
              "\n",
              "      const base64 = btoa(String.fromCharCode.apply(null, chunk));\n",
              "      yield {\n",
              "        response: {\n",
              "          action: 'append',\n",
              "          file: file.name,\n",
              "          data: base64,\n",
              "        },\n",
              "      };\n",
              "\n",
              "      let percentDone = fileData.byteLength === 0 ?\n",
              "          100 :\n",
              "          Math.round((position / fileData.byteLength) * 100);\n",
              "      percent.textContent = `${percentDone}% done`;\n",
              "\n",
              "    } while (position < fileData.byteLength);\n",
              "  }\n",
              "\n",
              "  // All done.\n",
              "  yield {\n",
              "    response: {\n",
              "      action: 'complete',\n",
              "    }\n",
              "  };\n",
              "}\n",
              "\n",
              "scope.google = scope.google || {};\n",
              "scope.google.colab = scope.google.colab || {};\n",
              "scope.google.colab._files = {\n",
              "  _uploadFiles,\n",
              "  _uploadFilesContinue,\n",
              "};\n",
              "})(self);\n",
              "</script> "
            ]
          },
          "metadata": {}
        },
        {
          "output_type": "stream",
          "name": "stdout",
          "text": [
            "Saving kaggle.json to kaggle.json\n"
          ]
        },
        {
          "output_type": "execute_result",
          "data": {
            "text/plain": [
              "{'kaggle.json': b'{\"username\":\"marthenn\",\"key\":\"dc8ab9fd8748dd211d7653ec0d6b015c\"}'}"
            ]
          },
          "metadata": {},
          "execution_count": 2
        }
      ]
    },
    {
      "cell_type": "code",
      "source": [
        "! mkdir ~/.kaggle\n",
        "! cp kaggle.json ~/.kaggle/\n",
        "! chmod 600 ~/.kaggle/kaggle.json\n",
        "! kaggle datasets list"
      ],
      "metadata": {
        "colab": {
          "base_uri": "https://localhost:8080/"
        },
        "id": "9Z5CrDXLrCWd",
        "outputId": "38cdbe65-fe23-416b-d037-5a277d1a2063"
      },
      "execution_count": 3,
      "outputs": [
        {
          "output_type": "stream",
          "name": "stdout",
          "text": [
            "ref                                                      title                                            size  lastUpdated          downloadCount  voteCount  usabilityRating  \n",
            "-------------------------------------------------------  ----------------------------------------------  -----  -------------------  -------------  ---------  ---------------  \n",
            "thedrcat/daigt-v2-train-dataset                          DAIGT V2 Train Dataset                           29MB  2023-11-16 01:38:36           2132        201  1.0              \n",
            "thedrcat/daigt-proper-train-dataset                      DAIGT Proper Train Dataset                      119MB  2023-11-05 14:03:25           1923        156  1.0              \n",
            "muhammadbinimran/housing-price-prediction-data           Housing Price Prediction Data                   763KB  2023-11-21 17:56:32           9801        166  1.0              \n",
            "carlmcbrideellis/llm-7-prompt-training-dataset           LLM: 7 prompt training dataset                   41MB  2023-11-15 07:32:56           1761        130  1.0              \n",
            "thedrcat/daigt-external-train-dataset                    DAIGT External Train Dataset                    435MB  2023-11-06 17:10:37            307         44  1.0              \n",
            "thedevastator/netflix-imdb-scores                        Netflix IMDB Scores                             699KB  2023-12-03 14:10:34           4039         68  1.0              \n",
            "spoorthiuk/us-top-10k-artists-and-their-popular-songs    US Top 10K Artists and Their Popular Songs        3MB  2023-12-13 17:49:48            807         23  1.0              \n",
            "jocelyndumlao/cardiovascular-disease-dataset             Cardiovascular_Disease_Dataset                  411KB  2023-12-09 06:51:28           1726         64  1.0              \n",
            "everydaycodings/produce-prices-dataset                   Fruits and Vegetables Prices Dataset            232KB  2023-12-11 13:40:33           1780         38  1.0              \n",
            "henryshan/starbucks                                      Starbucks                                         5KB  2023-12-06 03:07:49           2691         60  1.0              \n",
            "elvinrustam/imdb-movies-dataset                          IMDb Movies                                       2MB  2023-12-07 20:59:09           1266         28  1.0              \n",
            "dansbecker/melbourne-housing-snapshot                    Melbourne Housing Snapshot                      451KB  2018-06-05 12:52:24         133435       1402  0.7058824        \n",
            "tanshihjen/early-stage-diabetes-risk-prediction          early_stage_diabetes_risk_prediction              3KB  2023-12-04 14:31:55            840         29  1.0              \n",
            "thedevastator/books-sales-and-ratings                    Books Sales and Ratings                          53KB  2023-12-06 04:54:33           2394         31  1.0              \n",
            "uom190346a/tastetrios-exploring-ingredient-combinations  TasteTrios - Exploring Ingredient Combinations    4KB  2023-12-12 04:48:25            553         22  1.0              \n",
            "thedevastator/spotify-tracks-genre-dataset               Spotify Tracks Genre                              8MB  2023-11-30 04:25:48           2774         67  1.0              \n",
            "henryshan/meta-platforms-inc-meta                        Meta Stock Price                                 56KB  2023-12-06 11:23:22            504         30  1.0              \n",
            "abdallahwagih/books-dataset                              Books Dataset                                     2MB  2023-12-13 02:26:07            665         31  1.0              \n",
            "thedevastator/c2c-fashion-store-user-data                C2C Fashion Store User Data                       2MB  2023-12-04 18:06:40            667         34  0.9411765        \n",
            "datasnaek/youtube-new                                    Trending YouTube Video Statistics               201MB  2019-06-03 00:56:47         227732       5280  0.7941176        \n"
          ]
        }
      ]
    },
    {
      "cell_type": "code",
      "source": [
        "! kaggle datasets download -d jp797498e/twitter-entity-sentiment-analysis"
      ],
      "metadata": {
        "colab": {
          "base_uri": "https://localhost:8080/"
        },
        "id": "EQlyBvo5rS_4",
        "outputId": "6362e352-5c47-460d-96a2-2d3c7d363b7f"
      },
      "execution_count": 4,
      "outputs": [
        {
          "output_type": "stream",
          "name": "stdout",
          "text": [
            "Downloading twitter-entity-sentiment-analysis.zip to /content\n",
            "\r  0% 0.00/1.99M [00:00<?, ?B/s]\n",
            "\r100% 1.99M/1.99M [00:00<00:00, 171MB/s]\n"
          ]
        }
      ]
    },
    {
      "cell_type": "code",
      "source": [
        "import os\n",
        "import re\n",
        "import shutil\n",
        "import string\n",
        "import pandas as pd\n",
        "import numpy as np\n",
        "import matplotlib.pyplot as plt\n",
        "import tensorflow as tf\n",
        "print(tf.__version__)"
      ],
      "metadata": {
        "colab": {
          "base_uri": "https://localhost:8080/"
        },
        "id": "_bbyRHh15sJT",
        "outputId": "b3b2be9d-fa24-4e4f-d89b-771845bc27a5"
      },
      "execution_count": 17,
      "outputs": [
        {
          "output_type": "stream",
          "name": "stdout",
          "text": [
            "2.15.0\n"
          ]
        }
      ]
    },
    {
      "cell_type": "code",
      "source": [
        "import zipfile\n",
        "local_zip = 'twitter-entity-sentiment-analysis.zip'\n",
        "zip_ref = zipfile.ZipFile(local_zip, 'r')\n",
        "zip_ref.extractall('./')"
      ],
      "metadata": {
        "id": "QcLm7IAnrcRD"
      },
      "execution_count": 18,
      "outputs": []
    },
    {
      "cell_type": "code",
      "source": [
        "os.listdir()"
      ],
      "metadata": {
        "colab": {
          "base_uri": "https://localhost:8080/"
        },
        "id": "BQNXyqTZsOfZ",
        "outputId": "5f0f3f32-e92e-4805-e8db-5e70eddac331"
      },
      "execution_count": 19,
      "outputs": [
        {
          "output_type": "execute_result",
          "data": {
            "text/plain": [
              "['.config',\n",
              " 'kaggle.json',\n",
              " 'twitter_training.csv',\n",
              " 'twitter-entity-sentiment-analysis.zip',\n",
              " 'twitter_validation.csv',\n",
              " 'sample_data']"
            ]
          },
          "metadata": {},
          "execution_count": 19
        }
      ]
    },
    {
      "cell_type": "code",
      "source": [
        "column_names = ['Tweet ID', 'Entity', 'Sentiment', 'Tweet Content']\n",
        "df_train = pd.read_csv('twitter_training.csv', header=None, names=column_names)\n",
        "df_val = pd.read_csv('twitter_validation.csv', header=None, names=column_names)\n",
        "\n",
        "df_combined = pd.concat([df_train, df_val], ignore_index = True)\n",
        "df_combined = df_combined.drop(['Tweet ID', 'Entity'], axis=1)\n",
        "print(df_combined.isnull().sum())\n",
        "df_combined = df_combined.dropna()\n",
        "print(df_combined.isnull().sum())\n",
        "\n",
        "sentiments = pd.get_dummies(df_combined.Sentiment)\n",
        "df_combined_ohe = pd.concat([df_combined, sentiments], axis=1)\n",
        "df_combined_ohe = df_combined_ohe.drop(columns='Sentiment')\n",
        "\n",
        "df_combined_ohe.head()"
      ],
      "metadata": {
        "colab": {
          "base_uri": "https://localhost:8080/",
          "height": 310
        },
        "id": "XdvyQs2qsQzN",
        "outputId": "424d644c-35a4-466f-8624-b705404d1e59"
      },
      "execution_count": 20,
      "outputs": [
        {
          "output_type": "stream",
          "name": "stdout",
          "text": [
            "Sentiment          0\n",
            "Tweet Content    686\n",
            "dtype: int64\n",
            "Sentiment        0\n",
            "Tweet Content    0\n",
            "dtype: int64\n"
          ]
        },
        {
          "output_type": "execute_result",
          "data": {
            "text/plain": [
              "                                       Tweet Content  Irrelevant  Negative  \\\n",
              "0  im getting on borderlands and i will murder yo...           0         0   \n",
              "1  I am coming to the borders and I will kill you...           0         0   \n",
              "2  im getting on borderlands and i will kill you ...           0         0   \n",
              "3  im coming on borderlands and i will murder you...           0         0   \n",
              "4  im getting on borderlands 2 and i will murder ...           0         0   \n",
              "\n",
              "   Neutral  Positive  \n",
              "0        0         1  \n",
              "1        0         1  \n",
              "2        0         1  \n",
              "3        0         1  \n",
              "4        0         1  "
            ],
            "text/html": [
              "\n",
              "  <div id=\"df-b1552ff5-dc86-4d75-9a87-db8c01559e9d\" class=\"colab-df-container\">\n",
              "    <div>\n",
              "<style scoped>\n",
              "    .dataframe tbody tr th:only-of-type {\n",
              "        vertical-align: middle;\n",
              "    }\n",
              "\n",
              "    .dataframe tbody tr th {\n",
              "        vertical-align: top;\n",
              "    }\n",
              "\n",
              "    .dataframe thead th {\n",
              "        text-align: right;\n",
              "    }\n",
              "</style>\n",
              "<table border=\"1\" class=\"dataframe\">\n",
              "  <thead>\n",
              "    <tr style=\"text-align: right;\">\n",
              "      <th></th>\n",
              "      <th>Tweet Content</th>\n",
              "      <th>Irrelevant</th>\n",
              "      <th>Negative</th>\n",
              "      <th>Neutral</th>\n",
              "      <th>Positive</th>\n",
              "    </tr>\n",
              "  </thead>\n",
              "  <tbody>\n",
              "    <tr>\n",
              "      <th>0</th>\n",
              "      <td>im getting on borderlands and i will murder yo...</td>\n",
              "      <td>0</td>\n",
              "      <td>0</td>\n",
              "      <td>0</td>\n",
              "      <td>1</td>\n",
              "    </tr>\n",
              "    <tr>\n",
              "      <th>1</th>\n",
              "      <td>I am coming to the borders and I will kill you...</td>\n",
              "      <td>0</td>\n",
              "      <td>0</td>\n",
              "      <td>0</td>\n",
              "      <td>1</td>\n",
              "    </tr>\n",
              "    <tr>\n",
              "      <th>2</th>\n",
              "      <td>im getting on borderlands and i will kill you ...</td>\n",
              "      <td>0</td>\n",
              "      <td>0</td>\n",
              "      <td>0</td>\n",
              "      <td>1</td>\n",
              "    </tr>\n",
              "    <tr>\n",
              "      <th>3</th>\n",
              "      <td>im coming on borderlands and i will murder you...</td>\n",
              "      <td>0</td>\n",
              "      <td>0</td>\n",
              "      <td>0</td>\n",
              "      <td>1</td>\n",
              "    </tr>\n",
              "    <tr>\n",
              "      <th>4</th>\n",
              "      <td>im getting on borderlands 2 and i will murder ...</td>\n",
              "      <td>0</td>\n",
              "      <td>0</td>\n",
              "      <td>0</td>\n",
              "      <td>1</td>\n",
              "    </tr>\n",
              "  </tbody>\n",
              "</table>\n",
              "</div>\n",
              "    <div class=\"colab-df-buttons\">\n",
              "\n",
              "  <div class=\"colab-df-container\">\n",
              "    <button class=\"colab-df-convert\" onclick=\"convertToInteractive('df-b1552ff5-dc86-4d75-9a87-db8c01559e9d')\"\n",
              "            title=\"Convert this dataframe to an interactive table.\"\n",
              "            style=\"display:none;\">\n",
              "\n",
              "  <svg xmlns=\"http://www.w3.org/2000/svg\" height=\"24px\" viewBox=\"0 -960 960 960\">\n",
              "    <path d=\"M120-120v-720h720v720H120Zm60-500h600v-160H180v160Zm220 220h160v-160H400v160Zm0 220h160v-160H400v160ZM180-400h160v-160H180v160Zm440 0h160v-160H620v160ZM180-180h160v-160H180v160Zm440 0h160v-160H620v160Z\"/>\n",
              "  </svg>\n",
              "    </button>\n",
              "\n",
              "  <style>\n",
              "    .colab-df-container {\n",
              "      display:flex;\n",
              "      gap: 12px;\n",
              "    }\n",
              "\n",
              "    .colab-df-convert {\n",
              "      background-color: #E8F0FE;\n",
              "      border: none;\n",
              "      border-radius: 50%;\n",
              "      cursor: pointer;\n",
              "      display: none;\n",
              "      fill: #1967D2;\n",
              "      height: 32px;\n",
              "      padding: 0 0 0 0;\n",
              "      width: 32px;\n",
              "    }\n",
              "\n",
              "    .colab-df-convert:hover {\n",
              "      background-color: #E2EBFA;\n",
              "      box-shadow: 0px 1px 2px rgba(60, 64, 67, 0.3), 0px 1px 3px 1px rgba(60, 64, 67, 0.15);\n",
              "      fill: #174EA6;\n",
              "    }\n",
              "\n",
              "    .colab-df-buttons div {\n",
              "      margin-bottom: 4px;\n",
              "    }\n",
              "\n",
              "    [theme=dark] .colab-df-convert {\n",
              "      background-color: #3B4455;\n",
              "      fill: #D2E3FC;\n",
              "    }\n",
              "\n",
              "    [theme=dark] .colab-df-convert:hover {\n",
              "      background-color: #434B5C;\n",
              "      box-shadow: 0px 1px 3px 1px rgba(0, 0, 0, 0.15);\n",
              "      filter: drop-shadow(0px 1px 2px rgba(0, 0, 0, 0.3));\n",
              "      fill: #FFFFFF;\n",
              "    }\n",
              "  </style>\n",
              "\n",
              "    <script>\n",
              "      const buttonEl =\n",
              "        document.querySelector('#df-b1552ff5-dc86-4d75-9a87-db8c01559e9d button.colab-df-convert');\n",
              "      buttonEl.style.display =\n",
              "        google.colab.kernel.accessAllowed ? 'block' : 'none';\n",
              "\n",
              "      async function convertToInteractive(key) {\n",
              "        const element = document.querySelector('#df-b1552ff5-dc86-4d75-9a87-db8c01559e9d');\n",
              "        const dataTable =\n",
              "          await google.colab.kernel.invokeFunction('convertToInteractive',\n",
              "                                                    [key], {});\n",
              "        if (!dataTable) return;\n",
              "\n",
              "        const docLinkHtml = 'Like what you see? Visit the ' +\n",
              "          '<a target=\"_blank\" href=https://colab.research.google.com/notebooks/data_table.ipynb>data table notebook</a>'\n",
              "          + ' to learn more about interactive tables.';\n",
              "        element.innerHTML = '';\n",
              "        dataTable['output_type'] = 'display_data';\n",
              "        await google.colab.output.renderOutput(dataTable, element);\n",
              "        const docLink = document.createElement('div');\n",
              "        docLink.innerHTML = docLinkHtml;\n",
              "        element.appendChild(docLink);\n",
              "      }\n",
              "    </script>\n",
              "  </div>\n",
              "\n",
              "\n",
              "<div id=\"df-1fa4453a-fb84-47e7-9af4-2d7b4ada6478\">\n",
              "  <button class=\"colab-df-quickchart\" onclick=\"quickchart('df-1fa4453a-fb84-47e7-9af4-2d7b4ada6478')\"\n",
              "            title=\"Suggest charts\"\n",
              "            style=\"display:none;\">\n",
              "\n",
              "<svg xmlns=\"http://www.w3.org/2000/svg\" height=\"24px\"viewBox=\"0 0 24 24\"\n",
              "     width=\"24px\">\n",
              "    <g>\n",
              "        <path d=\"M19 3H5c-1.1 0-2 .9-2 2v14c0 1.1.9 2 2 2h14c1.1 0 2-.9 2-2V5c0-1.1-.9-2-2-2zM9 17H7v-7h2v7zm4 0h-2V7h2v10zm4 0h-2v-4h2v4z\"/>\n",
              "    </g>\n",
              "</svg>\n",
              "  </button>\n",
              "\n",
              "<style>\n",
              "  .colab-df-quickchart {\n",
              "      --bg-color: #E8F0FE;\n",
              "      --fill-color: #1967D2;\n",
              "      --hover-bg-color: #E2EBFA;\n",
              "      --hover-fill-color: #174EA6;\n",
              "      --disabled-fill-color: #AAA;\n",
              "      --disabled-bg-color: #DDD;\n",
              "  }\n",
              "\n",
              "  [theme=dark] .colab-df-quickchart {\n",
              "      --bg-color: #3B4455;\n",
              "      --fill-color: #D2E3FC;\n",
              "      --hover-bg-color: #434B5C;\n",
              "      --hover-fill-color: #FFFFFF;\n",
              "      --disabled-bg-color: #3B4455;\n",
              "      --disabled-fill-color: #666;\n",
              "  }\n",
              "\n",
              "  .colab-df-quickchart {\n",
              "    background-color: var(--bg-color);\n",
              "    border: none;\n",
              "    border-radius: 50%;\n",
              "    cursor: pointer;\n",
              "    display: none;\n",
              "    fill: var(--fill-color);\n",
              "    height: 32px;\n",
              "    padding: 0;\n",
              "    width: 32px;\n",
              "  }\n",
              "\n",
              "  .colab-df-quickchart:hover {\n",
              "    background-color: var(--hover-bg-color);\n",
              "    box-shadow: 0 1px 2px rgba(60, 64, 67, 0.3), 0 1px 3px 1px rgba(60, 64, 67, 0.15);\n",
              "    fill: var(--button-hover-fill-color);\n",
              "  }\n",
              "\n",
              "  .colab-df-quickchart-complete:disabled,\n",
              "  .colab-df-quickchart-complete:disabled:hover {\n",
              "    background-color: var(--disabled-bg-color);\n",
              "    fill: var(--disabled-fill-color);\n",
              "    box-shadow: none;\n",
              "  }\n",
              "\n",
              "  .colab-df-spinner {\n",
              "    border: 2px solid var(--fill-color);\n",
              "    border-color: transparent;\n",
              "    border-bottom-color: var(--fill-color);\n",
              "    animation:\n",
              "      spin 1s steps(1) infinite;\n",
              "  }\n",
              "\n",
              "  @keyframes spin {\n",
              "    0% {\n",
              "      border-color: transparent;\n",
              "      border-bottom-color: var(--fill-color);\n",
              "      border-left-color: var(--fill-color);\n",
              "    }\n",
              "    20% {\n",
              "      border-color: transparent;\n",
              "      border-left-color: var(--fill-color);\n",
              "      border-top-color: var(--fill-color);\n",
              "    }\n",
              "    30% {\n",
              "      border-color: transparent;\n",
              "      border-left-color: var(--fill-color);\n",
              "      border-top-color: var(--fill-color);\n",
              "      border-right-color: var(--fill-color);\n",
              "    }\n",
              "    40% {\n",
              "      border-color: transparent;\n",
              "      border-right-color: var(--fill-color);\n",
              "      border-top-color: var(--fill-color);\n",
              "    }\n",
              "    60% {\n",
              "      border-color: transparent;\n",
              "      border-right-color: var(--fill-color);\n",
              "    }\n",
              "    80% {\n",
              "      border-color: transparent;\n",
              "      border-right-color: var(--fill-color);\n",
              "      border-bottom-color: var(--fill-color);\n",
              "    }\n",
              "    90% {\n",
              "      border-color: transparent;\n",
              "      border-bottom-color: var(--fill-color);\n",
              "    }\n",
              "  }\n",
              "</style>\n",
              "\n",
              "  <script>\n",
              "    async function quickchart(key) {\n",
              "      const quickchartButtonEl =\n",
              "        document.querySelector('#' + key + ' button');\n",
              "      quickchartButtonEl.disabled = true;  // To prevent multiple clicks.\n",
              "      quickchartButtonEl.classList.add('colab-df-spinner');\n",
              "      try {\n",
              "        const charts = await google.colab.kernel.invokeFunction(\n",
              "            'suggestCharts', [key], {});\n",
              "      } catch (error) {\n",
              "        console.error('Error during call to suggestCharts:', error);\n",
              "      }\n",
              "      quickchartButtonEl.classList.remove('colab-df-spinner');\n",
              "      quickchartButtonEl.classList.add('colab-df-quickchart-complete');\n",
              "    }\n",
              "    (() => {\n",
              "      let quickchartButtonEl =\n",
              "        document.querySelector('#df-1fa4453a-fb84-47e7-9af4-2d7b4ada6478 button');\n",
              "      quickchartButtonEl.style.display =\n",
              "        google.colab.kernel.accessAllowed ? 'block' : 'none';\n",
              "    })();\n",
              "  </script>\n",
              "</div>\n",
              "    </div>\n",
              "  </div>\n"
            ]
          },
          "metadata": {},
          "execution_count": 20
        }
      ]
    },
    {
      "cell_type": "code",
      "source": [
        "import nltk\n",
        "from nltk.corpus import stopwords\n",
        "from nltk.tokenize import word_tokenize, RegexpTokenizer\n",
        "from nltk.stem import WordNetLemmatizer\n",
        "\n",
        "nltk.download('punkt')\n",
        "nltk.download('stopwords')\n",
        "nltk.download('wordnet')\n",
        "\n",
        "lemmatizer = WordNetLemmatizer()\n",
        "\n",
        "def custom_standardization(text):\n",
        "  punct = RegexpTokenizer(r'\\w+')\n",
        "  word_tokens = punct.tokenize(text)\n",
        "  stop_words = set(stopwords.words('english'))\n",
        "  filtered_text = [word for word in word_tokens if word not in stop_words]\n",
        "  lemmatized_text = [lemmatizer.lemmatize(word) for word in filtered_text]\n",
        "  return ' '.join(lemmatized_text)"
      ],
      "metadata": {
        "colab": {
          "base_uri": "https://localhost:8080/"
        },
        "id": "Cuf-d4zlKN7k",
        "outputId": "3116a4e2-d151-4c94-a2c8-9f5f5863501e"
      },
      "execution_count": 21,
      "outputs": [
        {
          "output_type": "stream",
          "name": "stderr",
          "text": [
            "[nltk_data] Downloading package punkt to /root/nltk_data...\n",
            "[nltk_data]   Package punkt is already up-to-date!\n",
            "[nltk_data] Downloading package stopwords to /root/nltk_data...\n",
            "[nltk_data]   Package stopwords is already up-to-date!\n",
            "[nltk_data] Downloading package wordnet to /root/nltk_data...\n",
            "[nltk_data]   Package wordnet is already up-to-date!\n"
          ]
        }
      ]
    },
    {
      "cell_type": "code",
      "source": [
        "df_combined_ohe = df_combined_ohe.drop_duplicates()\n",
        "df_combined_ohe['Tweet Content'].apply(custom_standardization)"
      ],
      "metadata": {
        "colab": {
          "base_uri": "https://localhost:8080/"
        },
        "id": "DMy7AKFnTsgG",
        "outputId": "4814fdd5-e529-4c0b-b9cb-587430d970b2"
      },
      "execution_count": 22,
      "outputs": [
        {
          "output_type": "execute_result",
          "data": {
            "text/plain": [
              "0                             im getting borderland murder\n",
              "1                                   I coming border I kill\n",
              "2                               im getting borderland kill\n",
              "3                              im coming borderland murder\n",
              "4                           im getting borderland 2 murder\n",
              "                               ...                        \n",
              "75670    Suikoden 2 1 Alex Kidd Miracle World Persona 3...\n",
              "75671    Thank Matching fund Home Depot RW payment 2155...\n",
              "75673    Late night stream boy Come watch warzone run s...\n",
              "75677    Toronto art culture capital Canada wonder If w...\n",
              "75678    tHIS IS ACTUALLY A GOOD MOVE TOT BRING MORE VI...\n",
              "Name: Tweet Content, Length: 70252, dtype: object"
            ]
          },
          "metadata": {},
          "execution_count": 22
        }
      ]
    },
    {
      "cell_type": "code",
      "source": [
        "df_combined_ohe['word_count'] = df_combined_ohe['Tweet Content'].str.split().apply(len)\n",
        "df_combined_ohe = df_combined_ohe[df_combined_ohe['word_count'] >= 10]\n",
        "df_combined_ohe[['Irrelevant', 'Neutral', 'Positive', 'Negative']].sum().plot(kind='bar')\n",
        "plt.show()\n",
        "print(df_combined_ohe[['Irrelevant', 'Neutral', 'Positive', 'Negative']].sum())"
      ],
      "metadata": {
        "colab": {
          "base_uri": "https://localhost:8080/",
          "height": 570
        },
        "id": "YTyw2wfZYav4",
        "outputId": "9ea37d3c-d9c6-49bb-b60a-b03391e059db"
      },
      "execution_count": 23,
      "outputs": [
        {
          "output_type": "display_data",
          "data": {
            "text/plain": [
              "<Figure size 640x480 with 1 Axes>"
            ],
            "image/png": "[encoded data removed]"
          },
          "metadata": {}
        },
        {
          "output_type": "stream",
          "name": "stdout",
          "text": [
            "Irrelevant     9232\n",
            "Neutral       13663\n",
            "Positive      12828\n",
            "Negative      15618\n",
            "dtype: int64\n"
          ]
        }
      ]
    },
    {
      "cell_type": "code",
      "source": [
        "content = df_combined_ohe['Tweet Content'].values\n",
        "label = df_combined_ohe[['Irrelevant', 'Neutral', 'Positive', 'Negative']].values"
      ],
      "metadata": {
        "id": "4CosZPvC1UGi"
      },
      "execution_count": 24,
      "outputs": []
    },
    {
      "cell_type": "code",
      "source": [
        "from sklearn.model_selection import train_test_split\n",
        "x_latih, x_test, y_latih, y_test = train_test_split(content, label, test_size=0.2)"
      ],
      "metadata": {
        "id": "VRfGJn40Peoe"
      },
      "execution_count": 25,
      "outputs": []
    },
    {
      "cell_type": "code",
      "source": [
        "from tensorflow.keras.preprocessing.text import Tokenizer\n",
        "from tensorflow.keras.preprocessing.sequence import pad_sequences\n",
        "\n",
        "tokenizer = Tokenizer(num_words= 5000, oov_token='-')\n",
        "tokenizer.fit_on_texts(x_latih)\n",
        "tokenizer.fit_on_texts(x_test)\n",
        "\n",
        "sekuens_latih = tokenizer.texts_to_sequences(x_latih)\n",
        "sekuens_test = tokenizer.texts_to_sequences(x_test)\n",
        "\n",
        "padded_latih = pad_sequences(sekuens_latih)\n",
        "padded_test = pad_sequences(sekuens_test)"
      ],
      "metadata": {
        "id": "Mku7aDdsF75r"
      },
      "execution_count": 26,
      "outputs": []
    },
    {
      "cell_type": "code",
      "source": [
        "class myCallback(tf.keras.callbacks.Callback):\n",
        "  def on_epoch_end(self, epoch, logs={}):\n",
        "    if(logs.get('accuracy')>0.9 and logs.get('val_accuracy')>0.9):\n",
        "      print(\"\\nAkurasi telah mencapai >90%!\")\n",
        "      self.model.stop_training = True\n",
        "callbacks = myCallback()"
      ],
      "metadata": {
        "id": "OBuP7zJAQGRa"
      },
      "execution_count": 38,
      "outputs": []
    },
    {
      "cell_type": "code",
      "source": [
        "from sklearn.model_selection import KFold"
      ],
      "metadata": {
        "id": "GzxfxqyYgeqg"
      },
      "execution_count": null,
      "outputs": []
    },
    {
      "cell_type": "code",
      "source": [
        "model = tf.keras.Sequential([\n",
        "    tf.keras.layers.Embedding(input_dim=5000, output_dim=16),\n",
        "    tf.keras.layers.LSTM(64),\n",
        "    tf.keras.layers.Dense(128, activation='relu'),\n",
        "    tf.keras.layers.Dense(64, activation='relu'),\n",
        "    tf.keras.layers.Dense(4, activation='softmax')\n",
        "])\n",
        "model.compile(loss='categorical_crossentropy',optimizer='adam',metrics=['accuracy'])"
      ],
      "metadata": {
        "id": "N1bt4IHbMwXm"
      },
      "execution_count": 37,
      "outputs": []
    },
    {
      "cell_type": "code",
      "source": [
        "num_epochs = 30\n",
        "history = model.fit(\n",
        "      padded_latih, y_latih,\n",
        "      epochs=num_epochs,\n",
        "      validation_data=(padded_test, y_test),\n",
        "      callbacks=[myCallback()],\n",
        "      batch_size = 64\n",
        "    )"
      ],
      "metadata": {
        "colab": {
          "base_uri": "https://localhost:8080/"
        },
        "id": "VtbymwVKQLiZ",
        "outputId": "09707188-138a-483d-a58e-47e00076e0e5"
      },
      "execution_count": 32,
      "outputs": [
        {
          "output_type": "stream",
          "name": "stdout",
          "text": [
            "Epoch 1/30\n",
            "321/321 [==============================] - 23s 63ms/step - loss: 1.1569 - accuracy: 0.4917 - val_loss: 0.9383 - val_accuracy: 0.6220\n",
            "Epoch 2/30\n",
            "321/321 [==============================] - 8s 24ms/step - loss: 0.7513 - accuracy: 0.7140 - val_loss: 0.7039 - val_accuracy: 0.7345\n",
            "Epoch 3/30\n",
            "321/321 [==============================] - 6s 18ms/step - loss: 0.5429 - accuracy: 0.8027 - val_loss: 0.6398 - val_accuracy: 0.7677\n",
            "Epoch 4/30\n",
            "321/321 [==============================] - 5s 15ms/step - loss: 0.4436 - accuracy: 0.8421 - val_loss: 0.5837 - val_accuracy: 0.7909\n",
            "Epoch 5/30\n",
            "321/321 [==============================] - 5s 15ms/step - loss: 0.3687 - accuracy: 0.8715 - val_loss: 0.5367 - val_accuracy: 0.8124\n",
            "Epoch 6/30\n",
            "321/321 [==============================] - 4s 12ms/step - loss: 0.3070 - accuracy: 0.8960 - val_loss: 0.5555 - val_accuracy: 0.8140\n",
            "Epoch 7/30\n",
            "321/321 [==============================] - 4s 11ms/step - loss: 0.2565 - accuracy: 0.9123 - val_loss: 0.5181 - val_accuracy: 0.8302\n",
            "Epoch 8/30\n",
            "321/321 [==============================] - 5s 14ms/step - loss: 0.2120 - accuracy: 0.9294 - val_loss: 0.5448 - val_accuracy: 0.8350\n",
            "Epoch 9/30\n",
            "321/321 [==============================] - 4s 11ms/step - loss: 0.1845 - accuracy: 0.9403 - val_loss: 0.5341 - val_accuracy: 0.8442\n",
            "Epoch 10/30\n",
            "321/321 [==============================] - 4s 11ms/step - loss: 0.1620 - accuracy: 0.9461 - val_loss: 0.5669 - val_accuracy: 0.8401\n",
            "Epoch 11/30\n",
            "321/321 [==============================] - 4s 13ms/step - loss: 0.1342 - accuracy: 0.9574 - val_loss: 0.5598 - val_accuracy: 0.8473\n",
            "Epoch 12/30\n",
            "321/321 [==============================] - 4s 12ms/step - loss: 0.1207 - accuracy: 0.9610 - val_loss: 0.6055 - val_accuracy: 0.8502\n",
            "Epoch 13/30\n",
            "321/321 [==============================] - 4s 12ms/step - loss: 0.1118 - accuracy: 0.9640 - val_loss: 0.5744 - val_accuracy: 0.8552\n",
            "Epoch 14/30\n",
            "321/321 [==============================] - 4s 11ms/step - loss: 0.0915 - accuracy: 0.9701 - val_loss: 0.6483 - val_accuracy: 0.8449\n",
            "Epoch 15/30\n",
            "321/321 [==============================] - 4s 13ms/step - loss: 0.0851 - accuracy: 0.9720 - val_loss: 0.6897 - val_accuracy: 0.8481\n",
            "Epoch 16/30\n",
            "321/321 [==============================] - 4s 11ms/step - loss: 0.0787 - accuracy: 0.9746 - val_loss: 0.7172 - val_accuracy: 0.8517\n",
            "Epoch 17/30\n",
            "321/321 [==============================] - 3s 11ms/step - loss: 0.0728 - accuracy: 0.9763 - val_loss: 0.7188 - val_accuracy: 0.8526\n",
            "Epoch 18/30\n",
            "321/321 [==============================] - 4s 12ms/step - loss: 0.0625 - accuracy: 0.9791 - val_loss: 0.7510 - val_accuracy: 0.8505\n",
            "Epoch 19/30\n",
            "321/321 [==============================] - 3s 10ms/step - loss: 0.0655 - accuracy: 0.9791 - val_loss: 0.7560 - val_accuracy: 0.8494\n",
            "Epoch 20/30\n",
            "321/321 [==============================] - 3s 10ms/step - loss: 0.0563 - accuracy: 0.9823 - val_loss: 0.7887 - val_accuracy: 0.8551\n",
            "Epoch 21/30\n",
            "321/321 [==============================] - 3s 10ms/step - loss: 0.0522 - accuracy: 0.9830 - val_loss: 0.8021 - val_accuracy: 0.8528\n",
            "Epoch 22/30\n",
            "321/321 [==============================] - 4s 13ms/step - loss: 0.0477 - accuracy: 0.9843 - val_loss: 0.8277 - val_accuracy: 0.8563\n",
            "Epoch 23/30\n",
            "321/321 [==============================] - 3s 10ms/step - loss: 0.0480 - accuracy: 0.9844 - val_loss: 0.8098 - val_accuracy: 0.8532\n",
            "Epoch 24/30\n",
            "321/321 [==============================] - 4s 11ms/step - loss: 0.0453 - accuracy: 0.9845 - val_loss: 0.8649 - val_accuracy: 0.8551\n",
            "Epoch 25/30\n",
            "321/321 [==============================] - 4s 14ms/step - loss: 0.0374 - accuracy: 0.9877 - val_loss: 0.8827 - val_accuracy: 0.8550\n",
            "Epoch 26/30\n",
            "321/321 [==============================] - 3s 11ms/step - loss: 0.0489 - accuracy: 0.9835 - val_loss: 0.8434 - val_accuracy: 0.8576\n",
            "Epoch 27/30\n",
            "321/321 [==============================] - 4s 11ms/step - loss: 0.0397 - accuracy: 0.9862 - val_loss: 0.8166 - val_accuracy: 0.8591\n",
            "Epoch 28/30\n",
            "321/321 [==============================] - 4s 11ms/step - loss: 0.0297 - accuracy: 0.9905 - val_loss: 0.9664 - val_accuracy: 0.8603\n",
            "Epoch 29/30\n",
            "321/321 [==============================] - 4s 12ms/step - loss: 0.0335 - accuracy: 0.9886 - val_loss: 0.9790 - val_accuracy: 0.8582\n",
            "Epoch 30/30\n",
            "321/321 [==============================] - 3s 11ms/step - loss: 0.0314 - accuracy: 0.9896 - val_loss: 1.0077 - val_accuracy: 0.8575\n"
          ]
        }
      ]
    },
    {
      "cell_type": "markdown",
      "source": [],
      "metadata": {
        "id": "lfw8EMGaqafE"
      }
    },
    {
      "cell_type": "code",
      "source": [
        "plt.plot(history.history['loss'])\n",
        "plt.title('Model Loss')\n",
        "plt.ylabel('Loss')\n",
        "plt.xlabel('Epoch')\n",
        "plt.legend(['Train'], loc='upper right')\n",
        "plt.show()"
      ],
      "metadata": {
        "colab": {
          "base_uri": "https://localhost:8080/",
          "height": 472
        },
        "id": "Cj3t76hpcl07",
        "outputId": "819df2f6-ffe5-434e-a2fd-366749e20e8e"
      },
      "execution_count": 33,
      "outputs": [
        {
          "output_type": "display_data",
          "data": {
            "text/plain": [
              "<Figure size 640x480 with 1 Axes>"
            ],
            "image/png": "[encoded data removed]"
          },
          "metadata": {}
        }
      ]
    },
    {
      "cell_type": "code",
      "source": [
        "plt.plot(history.history['accuracy'])\n",
        "plt.title('Model Accuracy')\n",
        "plt.ylabel('Accuracy')\n",
        "plt.xlabel('Epoch')\n",
        "plt.legend(['Train'], loc='upper right')\n",
        "plt.show()"
      ],
      "metadata": {
        "colab": {
          "base_uri": "https://localhost:8080/",
          "height": 472
        },
        "id": "5T_1_a0PcvdO",
        "outputId": "33053b92-5a40-4fc0-e7ad-52ca2bbf797c"
      },
      "execution_count": 34,
      "outputs": [
        {
          "output_type": "display_data",
          "data": {
            "text/plain": [
              "<Figure size 640x480 with 1 Axes>"
            ],
            "image/png": "[encoded data removed]"
          },
          "metadata": {}
        }
      ]
    },
    {
      "cell_type": "code",
      "source": [
        "plt.plot(history.history['val_loss'])\n",
        "plt.title('Validation Loss')\n",
        "plt.ylabel('Loss')\n",
        "plt.xlabel('Epoch')\n",
        "plt.legend(['Train'], loc='upper right')\n",
        "plt.show()"
      ],
      "metadata": {
        "colab": {
          "base_uri": "https://localhost:8080/",
          "height": 472
        },
        "id": "qnN8wXukczED",
        "outputId": "31c3cdd6-3ae5-4c6d-b14a-0dca58bd5fb6"
      },
      "execution_count": 35,
      "outputs": [
        {
          "output_type": "display_data",
          "data": {
            "text/plain": [
              "<Figure size 640x480 with 1 Axes>"
            ],
            "image/png": "[encoded data removed]"
          },
          "metadata": {}
        }
      ]
    },
    {
      "cell_type": "code",
      "source": [
        "plt.plot(history.history['val_accuracy'])\n",
        "plt.title('Val Accuracy')\n",
        "plt.ylabel('Accuracy')\n",
        "plt.xlabel('Epoch')\n",
        "plt.legend(['Train'], loc='upper right')\n",
        "plt.show()"
      ],
      "metadata": {
        "colab": {
          "base_uri": "https://localhost:8080/",
          "height": 472
        },
        "id": "bM7PnJVAc6Hx",
        "outputId": "74393eaf-209e-4df7-8bd0-8ac570d47bd2"
      },
      "execution_count": 36,
      "outputs": [
        {
          "output_type": "display_data",
          "data": {
            "text/plain": [
              "<Figure size 640x480 with 1 Axes>"
            ],
            "image/png": "[encoded data removed]"
          },
          "metadata": {}
        }
      ]
    }
  ]
}